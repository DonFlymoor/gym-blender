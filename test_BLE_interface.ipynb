{
 "cells": [
  {
   "cell_type": "code",
   "execution_count": 1,
   "metadata": {
    "collapsed": false,
    "scrolled": true
   },
   "outputs": [
    {
     "name": "stdout",
     "output_type": "stream",
     "text": [
      "UDP started\n",
      "legal action set : ['forward', 'backward', 'left', 'right']\n",
      "1036 1038\n",
      "game over, total reward is  10\n",
      "frame # is  8\n",
      "173 30\n",
      "game over, total reward is  0\n",
      "frame # is  8\n",
      "173 30\n",
      "game over, total reward is  20\n",
      "frame # is  18\n",
      "173 30\n",
      "game over, total reward is  10\n",
      "frame # is  7\n",
      "173 30\n",
      "game over, total reward is  10\n",
      "frame # is  8\n",
      "173 30\n",
      "game over, total reward is  20\n",
      "frame # is  18\n",
      "173 30\n",
      "game over, total reward is  10\n",
      "frame # is  11\n",
      "173 30\n",
      "game over, total reward is  0\n",
      "frame # is  5\n",
      "173 30\n",
      "game over, total reward is  10\n",
      "frame # is  11\n",
      "173 30\n",
      "game over, total reward is  10\n",
      "frame # is  7\n",
      "173 30\n",
      "game over, total reward is  0\n",
      "frame # is  5\n",
      "173 30\n",
      "game over, total reward is  10\n",
      "frame # is  10\n",
      "173 30\n",
      "game over, total reward is  0\n",
      "frame # is  9\n",
      "173 30\n",
      "game over, total reward is  0\n",
      "frame # is  8\n",
      "173 30\n",
      "game over, total reward is  10\n",
      "frame # is  8\n",
      "173 30\n",
      "game over, total reward is  10\n",
      "frame # is  5\n",
      "173 30\n",
      "game over, total reward is  20\n",
      "frame # is  24\n",
      "173 30\n",
      "game over, total reward is  10\n",
      "frame # is  9\n",
      "173 30\n",
      "game over, total reward is  0\n",
      "frame # is  5\n",
      "173 30\n",
      "game over, total reward is  40\n",
      "frame # is  39\n",
      "173 30\n",
      "game over, total reward is  20\n",
      "frame # is  21\n",
      "173 30\n",
      "game over, total reward is  60\n",
      "frame # is  71\n",
      "173 30\n",
      "game over, total reward is  10\n",
      "frame # is  16\n",
      "173 30\n",
      "game over, total reward is  0\n",
      "frame # is  6\n",
      "173 30\n",
      "game over, total reward is  20\n",
      "frame # is  15\n",
      "173 30\n",
      "game over, total reward is  0\n",
      "frame # is  5\n",
      "173 30\n",
      "game over, total reward is  20\n",
      "frame # is  24\n",
      "173 30\n"
     ]
    },
    {
     "ename": "KeyboardInterrupt",
     "evalue": "",
     "output_type": "error",
     "traceback": [
      "\u001b[0;31m---------------------------------------------------------------------------\u001b[0m",
      "\u001b[0;31mKeyboardInterrupt\u001b[0m                         Traceback (most recent call last)",
      "\u001b[0;32m<ipython-input-1-dafa9214555b>\u001b[0m in \u001b[0;36m<module>\u001b[0;34m()\u001b[0m\n\u001b[1;32m     25\u001b[0m \u001b[0;34m\u001b[0m\u001b[0m\n\u001b[1;32m     26\u001b[0m         \u001b[0mindex\u001b[0m \u001b[0;34m+=\u001b[0m \u001b[0;36m1\u001b[0m\u001b[0;34m\u001b[0m\u001b[0m\n\u001b[0;32m---> 27\u001b[0;31m         \u001b[0minterface\u001b[0m\u001b[0;34m.\u001b[0m\u001b[0mget_frame_number\u001b[0m\u001b[0;34m(\u001b[0m\u001b[0;34m)\u001b[0m\u001b[0;34m\u001b[0m\u001b[0m\n\u001b[0m\u001b[1;32m     28\u001b[0m \u001b[0;34m\u001b[0m\u001b[0m\n\u001b[1;32m     29\u001b[0m         \u001b[0;31m#print \"frame # is \", interface.frame\u001b[0m\u001b[0;34m\u001b[0m\u001b[0;34m\u001b[0m\u001b[0m\n",
      "\u001b[0;32m/Users/louis/Documents/BLE/BLE.py\u001b[0m in \u001b[0;36mget_frame_number\u001b[0;34m(self)\u001b[0m\n\u001b[1;32m     42\u001b[0m         \u001b[0mdata\u001b[0m \u001b[0;34m=\u001b[0m \u001b[0mpickle\u001b[0m\u001b[0;34m.\u001b[0m\u001b[0mdumps\u001b[0m\u001b[0;34m(\u001b[0m\u001b[0;34m(\u001b[0m\u001b[0;34m\"frame\"\u001b[0m\u001b[0;34m)\u001b[0m\u001b[0;34m)\u001b[0m\u001b[0;34m\u001b[0m\u001b[0m\n\u001b[1;32m     43\u001b[0m         \u001b[0mself\u001b[0m\u001b[0;34m.\u001b[0m\u001b[0msock\u001b[0m\u001b[0;34m.\u001b[0m\u001b[0msendto\u001b[0m\u001b[0;34m(\u001b[0m\u001b[0mdata\u001b[0m\u001b[0;34m,\u001b[0m \u001b[0;34m(\u001b[0m\u001b[0mself\u001b[0m\u001b[0;34m.\u001b[0m\u001b[0mHOST\u001b[0m\u001b[0;34m,\u001b[0m \u001b[0mself\u001b[0m\u001b[0;34m.\u001b[0m\u001b[0mPORT_SND\u001b[0m\u001b[0;34m)\u001b[0m\u001b[0;34m)\u001b[0m\u001b[0;34m\u001b[0m\u001b[0m\n\u001b[0;32m---> 44\u001b[0;31m         \u001b[0mframe\u001b[0m \u001b[0;34m=\u001b[0m \u001b[0mself\u001b[0m\u001b[0;34m.\u001b[0m\u001b[0msock\u001b[0m\u001b[0;34m.\u001b[0m\u001b[0mrecvfrom\u001b[0m\u001b[0;34m(\u001b[0m\u001b[0;36m1024\u001b[0m\u001b[0;34m)\u001b[0m\u001b[0;34m\u001b[0m\u001b[0m\n\u001b[0m\u001b[1;32m     45\u001b[0m         \u001b[0mself\u001b[0m\u001b[0;34m.\u001b[0m\u001b[0mframe\u001b[0m \u001b[0;34m=\u001b[0m \u001b[0mpickle\u001b[0m\u001b[0;34m.\u001b[0m\u001b[0mloads\u001b[0m\u001b[0;34m(\u001b[0m\u001b[0mframe\u001b[0m\u001b[0;34m[\u001b[0m\u001b[0;36m0\u001b[0m\u001b[0;34m]\u001b[0m\u001b[0;34m)\u001b[0m\u001b[0;34m\u001b[0m\u001b[0m\n\u001b[1;32m     46\u001b[0m         \u001b[0;31m#print \"frame # is \", frame\u001b[0m\u001b[0;34m\u001b[0m\u001b[0;34m\u001b[0m\u001b[0m\n",
      "\u001b[0;31mKeyboardInterrupt\u001b[0m: "
     ]
    }
   ],
   "source": [
    "import BLE\n",
    "import time\n",
    "import numpy as np\n",
    "import matplotlib.pyplot as plt\n",
    "import matplotlib.cm as cm\n",
    "%matplotlib inline\n",
    "\n",
    "interface = BLE.BLE_interface('game.blend')\n",
    "interface.start_UDP()\n",
    "\n",
    "interface.getMinimalActionSet()\n",
    "    \n",
    "print \"legal action set :\", interface.legal_action_set\n",
    "height, width = interface.getScreenDims()\n",
    "\n",
    "buffer = np.zeros((1000,height,width),dtype=np.uint8)\n",
    "index = -1\n",
    "for episode in range(0,1000,1):\n",
    "    reward = 0\n",
    "    go = 0\n",
    "    height, width = interface.getScreenDims()\n",
    "    print height, width\n",
    "    interface.reset_game()\n",
    "    while not go:\n",
    "\n",
    "        index += 1\n",
    "        interface.get_frame_number()\n",
    "\n",
    "        #print \"frame # is \", interface.frame\n",
    "\n",
    "        interface.get_episode_frame_number()\n",
    "\n",
    "        #print \"episode frame # is \", interface.episode_frame\n",
    "        #print episode\n",
    "\n",
    "        a = interface.legal_action_set[np.random.randint(len(interface.legal_action_set))]\n",
    "\n",
    "        interface.act(a)\n",
    "        \n",
    "        interface.getScreenGrayscale(buffer[index,...])\n",
    "        \n",
    "        #plt.imshow(interface.image)\n",
    "        #plt.show()\n",
    "        \n",
    "        #print interface.image.shape\n",
    "        go = interface.get_game_over()    \n",
    "        \n",
    "        interface.get_reward()\n",
    "        \n",
    "        reward+=interface.reward\n",
    "\n",
    "        interface.iterate()\n",
    "        if go:\n",
    "            print \"game over, total reward is \", reward\n",
    "            print \"frame # is \", interface.frame\n",
    "            time.sleep(0.01)\n",
    "            go = 1\n",
    "\n",
    "    "
   ]
  },
  {
   "cell_type": "code",
   "execution_count": 5,
   "metadata": {
    "collapsed": false
   },
   "outputs": [
    {
     "data": {
      "text/plain": [
       "(1000, 880, 897)"
      ]
     },
     "execution_count": 5,
     "metadata": {},
     "output_type": "execute_result"
    }
   ],
   "source": [
    "buffer.shape"
   ]
  },
  {
   "cell_type": "code",
   "execution_count": 25,
   "metadata": {
    "collapsed": false
   },
   "outputs": [],
   "source": [
    "image2 = image"
   ]
  },
  {
   "cell_type": "code",
   "execution_count": null,
   "metadata": {
    "collapsed": true
   },
   "outputs": [],
   "source": [
    "image2[0:1000].reshape()"
   ]
  },
  {
   "cell_type": "code",
   "execution_count": 2,
   "metadata": {
    "collapsed": true
   },
   "outputs": [],
   "source": [
    "a = (1,2)"
   ]
  },
  {
   "cell_type": "code",
   "execution_count": 3,
   "metadata": {
    "collapsed": false
   },
   "outputs": [
    {
     "data": {
      "text/plain": [
       "(1, 2)"
      ]
     },
     "execution_count": 3,
     "metadata": {},
     "output_type": "execute_result"
    }
   ],
   "source": [
    "a\n"
   ]
  },
  {
   "cell_type": "code",
   "execution_count": 4,
   "metadata": {
    "collapsed": false
   },
   "outputs": [
    {
     "data": {
      "text/plain": [
       "2"
      ]
     },
     "execution_count": 4,
     "metadata": {},
     "output_type": "execute_result"
    }
   ],
   "source": [
    "a[1]"
   ]
  },
  {
   "cell_type": "code",
   "execution_count": null,
   "metadata": {
    "collapsed": true
   },
   "outputs": [],
   "source": []
  }
 ],
 "metadata": {
  "kernelspec": {
   "display_name": "Python 2",
   "language": "python",
   "name": "python2"
  },
  "language_info": {
   "codemirror_mode": {
    "name": "ipython",
    "version": 2
   },
   "file_extension": ".py",
   "mimetype": "text/x-python",
   "name": "python",
   "nbconvert_exporter": "python",
   "pygments_lexer": "ipython2",
   "version": "2.7.10"
  }
 },
 "nbformat": 4,
 "nbformat_minor": 0
}
