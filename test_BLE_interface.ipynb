{
 "cells": [
  {
   "cell_type": "code",
   "execution_count": 4,
   "metadata": {
    "collapsed": false,
    "scrolled": true
   },
   "outputs": [
    {
     "name": "stdout",
     "output_type": "stream",
     "text": [
      "starting\n",
      "UDP started\n",
      "legal action set : ['forward', 'backward', 'left', 'right']\n",
      "game over, total reward is  3\n",
      "game over, total reward is  1\n",
      "game over, total reward is  1\n",
      "game over, total reward is  0\n",
      "game over, total reward is  1\n",
      "game over, total reward is  0\n",
      "game over, total reward is  2\n",
      "game over, total reward is  1\n",
      "game over, total reward is  2\n",
      "game over, total reward is  2\n",
      "stopping\n"
     ]
    }
   ],
   "source": [
    "import ble\n",
    "import time\n",
    "import numpy as np\n",
    "import matplotlib.pyplot as plt\n",
    "import matplotlib.cm as cm\n",
    "%matplotlib inline\n",
    "\n",
    "interface = ble.ble_environment('ridge_game.blend')\n",
    "interface.start_game()\n",
    "interface.start_UDP()\n",
    "\n",
    "interface.getMinimalActionSet()\n",
    "    \n",
    "print \"legal action set :\", interface.legal_action_set\n",
    "height, width = interface.getScreenDims()\n",
    "\n",
    "for episode in range(0,10,1):\n",
    "    reward = 0\n",
    "    go = 0\n",
    "    \n",
    "    interface.reset_game()\n",
    "    \n",
    "    while not go:\n",
    "    \n",
    "        a = interface.legal_action_set[np.random.randint(len(interface.legal_action_set))]\n",
    "\n",
    "        interface.act(a)\n",
    "        interface.iterate()\n",
    "        \n",
    "        img = interface.getScreenGrayscale()\n",
    "        \n",
    "        #print interface.image.shape\n",
    "        go = interface.get_game_over()    \n",
    "        \n",
    "        interface.get_reward()\n",
    "        \n",
    "        reward+=interface.reward\n",
    "\n",
    "        if go:\n",
    "            print \"game over, total reward is \", reward\n",
    "            time.sleep(0.01)\n",
    "            \n",
    "interface.test_send(\"off\")\n",
    "del interface\n",
    "    "
   ]
  },
  {
   "cell_type": "code",
   "execution_count": 24,
   "metadata": {
    "collapsed": false
   },
   "outputs": [],
   "source": [
    "import os, subprocess, time, signal\n",
    "import gym\n",
    "from gym import error, spaces\n",
    "from gym import utils\n",
    "from gym.utils import seeding\n",
    "import numpy as np\n",
    "\n",
    "try:\n",
    "    import ble\n",
    "except ImportError as e:\n",
    "    raise error.DependencyNotInstalled(\"{}. (HINT: you can install ble dependencies with 'pip install gym[ble].)'\".format(e))\n",
    "\n",
    "    \n",
    "import logging\n",
    "logger = logging.getLogger(__name__)\n",
    "\n",
    "\n",
    "\n",
    "class BleEnv(gym.Env, utils.EzPickle):\n",
    "    metadata = {'render.modes': ['human']}\n",
    "\n",
    "    def __init__(self, game_path='ridge_game.blend'):\n",
    "        self.viewer = None\n",
    "        self.server_process = None\n",
    "        self.game_path = game_path\n",
    "        self.env = ble.ble_environment(game_path)\n",
    "        \n",
    "        self.env.start_game()\n",
    "        self.env.start_UDP()\n",
    "        self.env.getMinimalActionSet()\n",
    "        # initialize with random action\n",
    "        action = self.env.legal_action_set[np.random.randint(len(self.env.legal_action_set))]\n",
    "        self.env.act(action)\n",
    "        self.env.iterate()\n",
    "        self.observation_space = spaces.Box(low=-1, high=1,\n",
    "                                            shape=(self.env.getScreenDims()))\n",
    "        \n",
    "        self.action_space = spaces.Tuple((spaces.Discrete(len(self.env.legal_action_set))))\n",
    "        \n",
    "    def __del__(self):\n",
    "        self.env.test_send(\"off\")\n",
    "        self.env.iterate()\n",
    "        self.env.iterate()\n",
    "        del self.env\n",
    "        if self.viewer is not None:\n",
    "            os.kill(self.viewer.pid, signal.SIGKILL)\n",
    "\n",
    "    def _step(self, action):\n",
    "        for i in range(4):\n",
    "            self.env.act(action)\n",
    "            self.status = self.env.iterate()\n",
    "        reward = self.env.get_reward()\n",
    "        ob = self.env.getScreenGrayscale()\n",
    "        episode_over = self.env.get_game_over()\n",
    "        return ob, reward, episode_over, {}\n",
    "    \n",
    "    def _reset(self):\n",
    "        self.env.reset_game()\n",
    "        action = self.env.legal_action_set[np.random.randint(len(self.env.legal_action_set))]\n",
    "        self.env.act(action)\n",
    "        self.env.iterate()\n",
    "        ob = self.env.getScreenGrayscale()\n",
    "        return ob\n",
    "    \n",
    "    \n",
    "    def _render(self, mode='human', close=False):\n",
    "        \"\"\" ble environement can only run in human mode currently, and \n",
    "        game is rendered directly in blender (blender game engine cannot run in )\"\"\"\n",
    "        pass\n"
   ]
  },
  {
   "cell_type": "code",
   "execution_count": 25,
   "metadata": {
    "collapsed": false
   },
   "outputs": [
    {
     "name": "stdout",
     "output_type": "stream",
     "text": [
      "starting\n",
      "UDP started\n",
      "stopping\n"
     ]
    }
   ],
   "source": [
    "BleEnv = BleEnv()\n",
    "\n",
    "ob, reward, episode_over, _ = BleEnv._step(BleEnv.env.legal_action_set[np.random.randint(len(BleEnv.env.legal_action_set))])\n",
    "\n",
    "BleEnv._reset()\n",
    "\n",
    "del BleEnv"
   ]
  },
  {
   "cell_type": "code",
   "execution_count": 23,
   "metadata": {
    "collapsed": false
   },
   "outputs": [
    {
     "name": "stdout",
     "output_type": "stream",
     "text": [
      "0\n"
     ]
    }
   ],
   "source": [
    "print(episode_over)"
   ]
  },
  {
   "cell_type": "code",
   "execution_count": 21,
   "metadata": {
    "collapsed": true
   },
   "outputs": [],
   "source": [
    "import matplotlib.pyplot as plt\n",
    "import matplotlib.cm as cm\n",
    "%matplotlib inline"
   ]
  },
  {
   "cell_type": "code",
   "execution_count": 22,
   "metadata": {
    "collapsed": false
   },
   "outputs": [
    {
     "data": {
      "image/png": "[encoded data removed]",
      "text/plain": [
       "<matplotlib.figure.Figure at 0x7f0a88937150>"
      ]
     },
     "metadata": {},
     "output_type": "display_data"
    }
   ],
   "source": [
    "plt.imshow(ob)\n",
    "plt.show()\n"
   ]
  },
  {
   "cell_type": "code",
   "execution_count": 4,
   "metadata": {
    "collapsed": false
   },
   "outputs": [
    {
     "data": {
      "text/plain": [
       "2"
      ]
     },
     "execution_count": 4,
     "metadata": {},
     "output_type": "execute_result"
    }
   ],
   "source": [
    "a[1]"
   ]
  },
  {
   "cell_type": "code",
   "execution_count": null,
   "metadata": {
    "collapsed": true
   },
   "outputs": [],
   "source": []
  }
 ],
 "metadata": {
  "kernelspec": {
   "display_name": "Python 2",
   "language": "python",
   "name": "python2"
  },
  "language_info": {
   "codemirror_mode": {
    "name": "ipython",
    "version": 2
   },
   "file_extension": ".py",
   "mimetype": "text/x-python",
   "name": "python",
   "nbconvert_exporter": "python",
   "pygments_lexer": "ipython2",
   "version": "2.7.12"
  }
 },
 "nbformat": 4,
 "nbformat_minor": 0
}
