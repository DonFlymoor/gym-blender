{
 "cells": [
  {
   "cell_type": "code",
   "execution_count": null,
   "metadata": {
    "collapsed": true
   },
   "outputs": [],
   "source": [
    "from gym_blender.envs import BleEnv\n",
    "import numpy as np\n",
    "import matplotlib.pyplot as plt\n",
    "import matplotlib.cm as cm\n",
    "%matplotlib inline"
   ]
  },
  {
   "cell_type": "code",
   "execution_count": 1,
   "metadata": {
    "collapsed": false,
    "deletable": true,
    "editable": true
   },
   "outputs": [
    {
     "name": "stdout",
     "output_type": "stream",
     "text": [
      "starting\n",
      "UDP started\n",
      "game over, total reward is  0\n",
      "game over, total reward is  1\n",
      "game over, total reward is  0\n",
      "game over, total reward is  0\n",
      "game over, total reward is  0\n",
      "stopping\n"
     ]
    }
   ],
   "source": [
    "ble_env = BleEnv(game_path='games/ridge_game.blend')\n",
    "\n",
    "for episode in range(5):\n",
    "    total_reward = 0\n",
    "    episode_over = 0\n",
    "    \n",
    "    ble_env._reset()\n",
    "    \n",
    "    while not episode_over:\n",
    "        rand_action = ble_env.env.legal_action_set[np.random.randint(len(ble_env.env.legal_action_set))]\n",
    "        ob, reward, episode_over, _ = ble_env._step(rand_action)\n",
    "\n",
    "        total_reward += reward\n",
    "\n",
    "        if episode_over:\n",
    "            print \"game over, total reward is \", reward\n",
    "\n",
    "del ble_env"
   ]
  },
  {
   "cell_type": "code",
   "execution_count": 3,
   "metadata": {
    "collapsed": false,
    "deletable": true,
    "editable": true
   },
   "outputs": [
    {
     "data": {
      "image/png": "[encoded data removed]",
      "text/plain": [
       "<matplotlib.figure.Figure at 0x7f5a0720f510>"
      ]
     },
     "metadata": {},
     "output_type": "display_data"
    }
   ],
   "source": [
    "plt.imshow(ob)\n",
    "plt.show()\n"
   ]
  }
 ],
 "metadata": {
  "kernelspec": {
   "display_name": "Python 2",
   "language": "python",
   "name": "python2"
  },
  "language_info": {
   "codemirror_mode": {
    "name": "ipython",
    "version": 2
   },
   "file_extension": ".py",
   "mimetype": "text/x-python",
   "name": "python",
   "nbconvert_exporter": "python",
   "pygments_lexer": "ipython2",
   "version": "2.7.12"
  }
 },
 "nbformat": 4,
 "nbformat_minor": 0
}
