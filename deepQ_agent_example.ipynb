{
 "cells": [
  {
   "cell_type": "code",
   "execution_count": 1,
   "metadata": {
    "collapsed": false,
    "deletable": true,
    "editable": true
   },
   "outputs": [
    {
     "name": "stderr",
     "output_type": "stream",
     "text": [
      "Using Theano backend.\n",
      "Using gpu device 0: GeForce GTX 1070 (CNMeM is disabled, cuDNN 5110)\n",
      "/usr/local/lib/python2.7/dist-packages/theano/sandbox/cuda/__init__.py:600: UserWarning: Your cuDNN version is more recent than the one Theano officially supports. If you see any problems, try updating Theano or downgrading cuDNN to version 5.\n",
      "  warnings.warn(warn)\n"
     ]
    }
   ],
   "source": [
    "import copy\n",
    "import gym_blender\n",
    "import gym\n",
    "import numpy as np\n",
    "import matplotlib.pyplot as plt\n",
    "import matplotlib.cm as cm\n",
    "import keras\n",
    "from keras.models import Sequential\n",
    "from keras.layers import Dense, Conv2D, MaxPooling2D, Dropout, Flatten\n",
    "from keras.layers.normalization import BatchNormalization\n",
    "from keras.optimizers import RMSprop\n",
    "from IPython import display\n",
    "import pylab as pl\n",
    "from collections import deque\n",
    "\n",
    "import numpy as np\n",
    "% matplotlib inline"
   ]
  },
  {
   "cell_type": "code",
   "execution_count": 2,
   "metadata": {
    "collapsed": false,
    "deletable": true,
    "editable": true
   },
   "outputs": [],
   "source": [
    "# Deep-Q learning Agent\n",
    "class DQNAgent:\n",
    "    def __init__(self, env, image_dim):\n",
    "        self.env = env\n",
    "        self.num_actions = env.action_space.n\n",
    "        self.memory = []\n",
    "        self.gamma = 0.9  # decay rate\n",
    "        self.epsilon = 1.0  # exploration\n",
    "        self.epsilon_decay = .997\n",
    "        self.epsilon_min = 0.1\n",
    "        self.learning_rate = 0.00002\n",
    "        self.image_dim = image_dim\n",
    "        self.model = self._build_2dconv_model()\n",
    "        \n",
    "    def _build_2dconv_model(self):\n",
    "        model = Sequential()\n",
    "        \n",
    "        print(self.image_dim)\n",
    "        model.add(Conv2D(16, 8, 8, activation='relu', input_shape=self.image_dim))\n",
    "        model.add(BatchNormalization())\n",
    "        model.add(Conv2D(16, 5, 5, activation='relu'))\n",
    "        model.add(BatchNormalization())\n",
    "        model.add(MaxPooling2D(pool_size=(1, 2)))\n",
    "\n",
    "        model.add(Conv2D(32, 3, 3, activation='relu'))\n",
    "        model.add(BatchNormalization())\n",
    "        model.add(Conv2D(32, 3, 3, activation='relu'))\n",
    "        model.add(BatchNormalization())\n",
    "        model.add(MaxPooling2D(pool_size=(1, 2)))\n",
    "\n",
    "        model.add(Flatten())\n",
    "        model.add(Dense(128, activation='relu'))\n",
    "        model.add(BatchNormalization())\n",
    "        model.add(Dense(self.num_actions, activation='linear'))\n",
    "\n",
    "        rms = RMSprop(lr=self.learning_rate)\n",
    "        model.compile(loss='mean_squared_error', optimizer=rms)\n",
    "                      \n",
    "        print(model.summary())\n",
    "        \n",
    "        return model\n",
    "    \n",
    "    def remember(self, state, action, reward, next_state, done, max_len=150000):\n",
    "        self.memory.append((state, action, reward, next_state, done))\n",
    "        \n",
    "        #forget if too old:\n",
    "        if len(self.memory) > max_len:\n",
    "            self.memory.pop(0)\n",
    "    \n",
    "    def act(self, state):\n",
    "        if np.random.rand() <= self.epsilon:\n",
    "            return self.env.action_space.sample()\n",
    "        act_values = self.model.predict(state)\n",
    "        \n",
    "        return np.argmax(act_values[0])  # returns action\n",
    "    \n",
    "    def train(self, batch_size, history_length):\n",
    "        \n",
    "        batch_size = min(batch_size, len(self.memory))\n",
    "        # make sure there is at least history_length frames behind each batch state\n",
    "        batche_indexes = np.random.choice(range(history_length,len(self.memory)), batch_size)\n",
    "        \n",
    "        # unpack minibatch:\n",
    "        prestates = np.vstack([self.memory[index][0] for index in batche_indexes])\n",
    "        actions = np.array([self.memory[index][1] for index in batche_indexes])\n",
    "        rewards = np.array([self.memory[index][2] for index in batche_indexes])\n",
    "        poststates = np.vstack([self.memory[index][3] for index in batche_indexes])\n",
    "        terminals = np.array([self.memory[index][4] for index in batche_indexes])\n",
    "        \n",
    "        # forward passes:\n",
    "        pre_q = self.model.predict(prestates)\n",
    "        post_q = self.model.predict(poststates)\n",
    "        max_post_q = np.array([np.amax(q) for q in post_q])\n",
    "        \n",
    "        targets = pre_q\n",
    "        \n",
    "        for i, action in enumerate(actions):\n",
    "            if terminals[i]:\n",
    "                targets[i, action] = float(rewards[i])\n",
    "            else:\n",
    "                targets[i, action] = float(rewards[i]) + self.gamma * max_post_q[i]\n",
    "                \n",
    "        self.model.fit(prestates, targets, nb_epoch=2, verbose=1)\n",
    "        if self.epsilon > self.epsilon_min:\n",
    "            self.epsilon *= self.epsilon_decay\n"
   ]
  },
  {
   "cell_type": "code",
   "execution_count": 3,
   "metadata": {
    "collapsed": false,
    "deletable": true,
    "editable": true,
    "scrolled": false
   },
   "outputs": [
    {
     "data": {
      "image/png": "[encoded data removed]",
      "text/plain": [
       "<matplotlib.figure.Figure at 0x7f6e2bd10190>"
      ]
     },
     "metadata": {},
     "output_type": "display_data"
    },
    {
     "name": "stdout",
     "output_type": "stream",
     "text": [
      "Epoch 1/2\n",
      "32/32 [==============================] - 0s - loss: 6848.1074\n",
      "Epoch 2/2\n",
      "32/32 [==============================] - 0s - loss: 6803.2314\n",
      "Epoch 1/2\n",
      "32/32 [==============================] - 0s - loss: 7138.9883\n",
      "Epoch 2/2\n",
      "32/32 [==============================] - 0s - loss: 7109.8911\n",
      "Epoch 1/2\n",
      "32/32 [==============================] - 0s - loss: 5942.4414\n",
      "Epoch 2/2\n",
      "32/32 [==============================] - 0s - loss: 5887.8354\n",
      "Epoch 1/2\n",
      "32/32 [==============================] - 0s - loss: 8378.0645\n",
      "Epoch 2/2\n",
      "32/32 [==============================] - 0s - loss: 8351.5391\n",
      "Epoch 1/2\n",
      "32/32 [==============================] - 0s - loss: 6713.0566\n",
      "Epoch 2/2\n",
      "32/32 [==============================] - 0s - loss: 6686.7695\n",
      "Epoch 1/2\n",
      "32/32 [==============================] - 0s - loss: 5249.5835\n",
      "Epoch 2/2\n",
      "32/32 [==============================] - 0s - loss: 5230.0044\n",
      "Epoch 1/2\n",
      "32/32 [==============================] - 0s - loss: 12053.3047\n",
      "Epoch 2/2\n",
      "32/32 [==============================] - 0s - loss: 12031.7803\n",
      "Epoch 1/2\n",
      "32/32 [==============================] - 0s - loss: 12575.8965\n",
      "Epoch 2/2\n",
      "32/32 [==============================] - 0s - loss: 12554.2930\n",
      "Epoch 1/2\n",
      "32/32 [==============================] - 0s - loss: 15937.4375\n",
      "Epoch 2/2\n",
      "32/32 [==============================] - 0s - loss: 15916.8281\n",
      "Epoch 1/2\n",
      "32/32 [==============================] - 0s - loss: 27350.9375\n",
      "Epoch 2/2\n",
      "32/32 [==============================] - 0s - loss: 27321.0039\n",
      "Epoch 1/2\n",
      "32/32 [==============================] - 0s - loss: 23546.2539\n",
      "Epoch 2/2\n",
      "32/32 [==============================] - 0s - loss: 23505.8906\n",
      "Epoch 1/2\n",
      "32/32 [==============================] - 0s - loss: 19350.1094\n",
      "Epoch 2/2\n",
      "32/32 [==============================] - 0s - loss: 19318.6621\n",
      "Epoch 1/2\n",
      "32/32 [==============================] - 0s - loss: 15511.5635\n",
      "Epoch 2/2\n",
      "32/32 [==============================] - 0s - loss: 15477.4775\n",
      "Epoch 1/2\n",
      "32/32 [==============================] - 0s - loss: 15793.3906\n",
      "Epoch 2/2\n",
      "32/32 [==============================] - 0s - loss: 15766.5039\n",
      "Epoch 1/2\n",
      "32/32 [==============================] - 0s - loss: 10239.5215\n",
      "Epoch 2/2\n",
      "32/32 [==============================] - 0s - loss: 10224.1641\n",
      "Epoch 1/2\n",
      "32/32 [==============================] - 0s - loss: 11926.4531\n",
      "Epoch 2/2\n",
      "32/32 [==============================] - 0s - loss: 11911.4492\n",
      "Epoch 1/2\n",
      "32/32 [==============================] - 0s - loss: 8629.0596\n",
      "Epoch 2/2\n",
      "32/32 [==============================] - 0s - loss: 8607.8320\n",
      "Epoch 1/2\n",
      "32/32 [==============================] - 0s - loss: 12368.3125\n",
      "Epoch 2/2\n",
      "32/32 [==============================] - 0s - loss: 12345.4512\n",
      "Epoch 1/2\n",
      "32/32 [==============================] - 0s - loss: 10465.0898\n",
      "Epoch 2/2\n",
      "32/32 [==============================] - 0s - loss: 10438.5352\n"
     ]
    },
    {
     "ename": "KeyboardInterrupt",
     "evalue": "",
     "output_type": "error",
     "traceback": [
      "\u001b[0;31m-----------------------------------------------------------------------\u001b[0m",
      "\u001b[0;31mKeyboardInterrupt\u001b[0m                     Traceback (most recent call last)",
      "\u001b[0;32m<ipython-input-3-1b77591b9791>\u001b[0m in \u001b[0;36m<module>\u001b[0;34m()\u001b[0m\n\u001b[1;32m     27\u001b[0m \u001b[0;34m\u001b[0m\u001b[0m\n\u001b[1;32m     28\u001b[0m         \u001b[0;31m# Advance the game to the next frame based on the action.\u001b[0m\u001b[0;34m\u001b[0m\u001b[0;34m\u001b[0m\u001b[0m\n\u001b[0;32m---> 29\u001b[0;31m         \u001b[0mnext_state\u001b[0m\u001b[0;34m,\u001b[0m \u001b[0mreward\u001b[0m\u001b[0;34m,\u001b[0m \u001b[0mdone\u001b[0m\u001b[0;34m,\u001b[0m \u001b[0m_\u001b[0m \u001b[0;34m=\u001b[0m \u001b[0mridge_env\u001b[0m\u001b[0;34m.\u001b[0m\u001b[0mstep\u001b[0m\u001b[0;34m(\u001b[0m\u001b[0mridge_env\u001b[0m\u001b[0;34m.\u001b[0m\u001b[0mblender_interface\u001b[0m\u001b[0;34m.\u001b[0m\u001b[0mlegal_action_set\u001b[0m\u001b[0;34m[\u001b[0m\u001b[0maction\u001b[0m\u001b[0;34m]\u001b[0m\u001b[0;34m)\u001b[0m\u001b[0;34m\u001b[0m\u001b[0m\n\u001b[0m\u001b[1;32m     30\u001b[0m \u001b[0;34m\u001b[0m\u001b[0m\n\u001b[1;32m     31\u001b[0m         \u001b[0;31m# (reward defaults to 1)\u001b[0m\u001b[0;34m\u001b[0m\u001b[0;34m\u001b[0m\u001b[0m\n",
      "\u001b[0;32m/home/louis/theano-env/lib/python2.7/site-packages/gym-0.8.1-py2.7.egg/gym/core.pyc\u001b[0m in \u001b[0;36mstep\u001b[0;34m(self, action)\u001b[0m\n\u001b[1;32m     97\u001b[0m             \u001b[0minfo\u001b[0m \u001b[0;34m(\u001b[0m\u001b[0mdict\u001b[0m\u001b[0;34m)\u001b[0m\u001b[0;34m:\u001b[0m \u001b[0mcontains\u001b[0m \u001b[0mauxiliary\u001b[0m \u001b[0mdiagnostic\u001b[0m \u001b[0minformation\u001b[0m \u001b[0;34m(\u001b[0m\u001b[0mhelpful\u001b[0m \u001b[0;32mfor\u001b[0m \u001b[0mdebugging\u001b[0m\u001b[0;34m,\u001b[0m \u001b[0;32mand\u001b[0m \u001b[0msometimes\u001b[0m \u001b[0mlearning\u001b[0m\u001b[0;34m)\u001b[0m\u001b[0;34m\u001b[0m\u001b[0m\n\u001b[1;32m     98\u001b[0m         \"\"\"\n\u001b[0;32m---> 99\u001b[0;31m         \u001b[0;32mreturn\u001b[0m \u001b[0mself\u001b[0m\u001b[0;34m.\u001b[0m\u001b[0m_step\u001b[0m\u001b[0;34m(\u001b[0m\u001b[0maction\u001b[0m\u001b[0;34m)\u001b[0m\u001b[0;34m\u001b[0m\u001b[0m\n\u001b[0m\u001b[1;32m    100\u001b[0m \u001b[0;34m\u001b[0m\u001b[0m\n\u001b[1;32m    101\u001b[0m     \u001b[0;32mdef\u001b[0m \u001b[0mreset\u001b[0m\u001b[0;34m(\u001b[0m\u001b[0mself\u001b[0m\u001b[0;34m)\u001b[0m\u001b[0;34m:\u001b[0m\u001b[0;34m\u001b[0m\u001b[0m\n",
      "\u001b[0;32m/home/louis/Documents/gym-blender/gym_blender/envs/blender_env.pyc\u001b[0m in \u001b[0;36m_step\u001b[0;34m(self, action, repeat)\u001b[0m\n\u001b[1;32m     50\u001b[0m             \u001b[0mself\u001b[0m\u001b[0;34m.\u001b[0m\u001b[0mblender_interface\u001b[0m\u001b[0;34m.\u001b[0m\u001b[0mact\u001b[0m\u001b[0;34m(\u001b[0m\u001b[0maction\u001b[0m\u001b[0;34m)\u001b[0m\u001b[0;34m\u001b[0m\u001b[0m\n\u001b[1;32m     51\u001b[0m             \u001b[0mself\u001b[0m\u001b[0;34m.\u001b[0m\u001b[0mblender_interface\u001b[0m\u001b[0;34m.\u001b[0m\u001b[0mstep\u001b[0m\u001b[0;34m(\u001b[0m\u001b[0;34m)\u001b[0m\u001b[0;34m\u001b[0m\u001b[0m\n\u001b[0;32m---> 52\u001b[0;31m         \u001b[0mreward\u001b[0m \u001b[0;34m=\u001b[0m \u001b[0mself\u001b[0m\u001b[0;34m.\u001b[0m\u001b[0mblender_interface\u001b[0m\u001b[0;34m.\u001b[0m\u001b[0mget_reward\u001b[0m\u001b[0;34m(\u001b[0m\u001b[0;34m)\u001b[0m\u001b[0;34m\u001b[0m\u001b[0m\n\u001b[0m\u001b[1;32m     53\u001b[0m         \u001b[0mob\u001b[0m \u001b[0;34m=\u001b[0m \u001b[0mself\u001b[0m\u001b[0;34m.\u001b[0m\u001b[0mblender_interface\u001b[0m\u001b[0;34m.\u001b[0m\u001b[0mget_screen_grayscale\u001b[0m\u001b[0;34m(\u001b[0m\u001b[0;34m)\u001b[0m\u001b[0;34m\u001b[0m\u001b[0m\n\u001b[1;32m     54\u001b[0m         \u001b[0mepisode_over\u001b[0m \u001b[0;34m=\u001b[0m \u001b[0mself\u001b[0m\u001b[0;34m.\u001b[0m\u001b[0mblender_interface\u001b[0m\u001b[0;34m.\u001b[0m\u001b[0mget_game_over\u001b[0m\u001b[0;34m(\u001b[0m\u001b[0;34m)\u001b[0m\u001b[0;34m\u001b[0m\u001b[0m\n",
      "\u001b[0;32m/home/louis/Documents/gym-blender/gym_blender/envs/blender_interface.pyc\u001b[0m in \u001b[0;36mget_reward\u001b[0;34m(self)\u001b[0m\n\u001b[1;32m     98\u001b[0m         \u001b[0mcmd\u001b[0m \u001b[0;34m=\u001b[0m \u001b[0mpickle\u001b[0m\u001b[0;34m.\u001b[0m\u001b[0mdumps\u001b[0m\u001b[0;34m(\u001b[0m\u001b[0;34m\"get_reward\"\u001b[0m\u001b[0;34m)\u001b[0m\u001b[0;34m\u001b[0m\u001b[0m\n\u001b[1;32m     99\u001b[0m         \u001b[0mself\u001b[0m\u001b[0;34m.\u001b[0m\u001b[0msock\u001b[0m\u001b[0;34m.\u001b[0m\u001b[0msendto\u001b[0m\u001b[0;34m(\u001b[0m\u001b[0mcmd\u001b[0m\u001b[0;34m,\u001b[0m \u001b[0;34m(\u001b[0m\u001b[0mself\u001b[0m\u001b[0;34m.\u001b[0m\u001b[0mHOST\u001b[0m\u001b[0;34m,\u001b[0m \u001b[0mself\u001b[0m\u001b[0;34m.\u001b[0m\u001b[0mPORT_SND\u001b[0m\u001b[0;34m)\u001b[0m\u001b[0;34m)\u001b[0m\u001b[0;34m\u001b[0m\u001b[0m\n\u001b[0;32m--> 100\u001b[0;31m         \u001b[0mreward\u001b[0m \u001b[0;34m=\u001b[0m \u001b[0mself\u001b[0m\u001b[0;34m.\u001b[0m\u001b[0msock\u001b[0m\u001b[0;34m.\u001b[0m\u001b[0mrecvfrom\u001b[0m\u001b[0;34m(\u001b[0m\u001b[0mself\u001b[0m\u001b[0;34m.\u001b[0m\u001b[0mbuflen\u001b[0m\u001b[0;34m)\u001b[0m\u001b[0;34m\u001b[0m\u001b[0m\n\u001b[0m\u001b[1;32m    101\u001b[0m         \u001b[0mself\u001b[0m\u001b[0;34m.\u001b[0m\u001b[0mreward\u001b[0m \u001b[0;34m=\u001b[0m \u001b[0mpickle\u001b[0m\u001b[0;34m.\u001b[0m\u001b[0mloads\u001b[0m\u001b[0;34m(\u001b[0m\u001b[0mreward\u001b[0m\u001b[0;34m[\u001b[0m\u001b[0;36m0\u001b[0m\u001b[0;34m]\u001b[0m\u001b[0;34m)\u001b[0m\u001b[0;34m\u001b[0m\u001b[0m\n\u001b[1;32m    102\u001b[0m         \u001b[0;32mreturn\u001b[0m \u001b[0mself\u001b[0m\u001b[0;34m.\u001b[0m\u001b[0mreward\u001b[0m\u001b[0;34m\u001b[0m\u001b[0m\n",
      "\u001b[0;31mKeyboardInterrupt\u001b[0m: "
     ]
    }
   ],
   "source": [
    "history_length = 4\n",
    "\n",
    "ridge_env = gym.envs.make('ridge-v0')\n",
    "\n",
    "state = ridge_env._reset()\n",
    "agent = DQNAgent(ridge_env, (history_length,)+state.shape)\n",
    "\n",
    "episodes = 50000\n",
    "all_scores = []\n",
    "all_scores_means = []\n",
    "# Iterate the game\n",
    "for e in range(episodes):\n",
    "\n",
    "    # reset state in the beginning of each game\n",
    "    state = ridge_env._reset()\n",
    "    state = np.expand_dims(np.expand_dims(state, 0), 0)\n",
    "    # time_t represents each frame of the game\n",
    "    # Our goal is to keep the pole upright as long as possible\n",
    "    # the more time_t the more score\n",
    "    states = deque([state]*history_length)\n",
    "    for time_t in range(5000):\n",
    "        # turn this on if you want to render\n",
    "        # env.render()\n",
    "\n",
    "        # Decide action\n",
    "        action = agent.act(np.concatenate(states, axis=1))\n",
    "\n",
    "        # Advance the game to the next frame based on the action.\n",
    "        next_state, reward, done, _ = ridge_env.step(ridge_env.blender_interface.legal_action_set[action])\n",
    "\n",
    "        # (reward defaults to 1)\n",
    "        # reward the agent 1 for every frame it lived\n",
    "        # and punish -1 for dying\n",
    "        reward = -1 if done else 1\n",
    "        \n",
    "        next_state = np.expand_dims(np.expand_dims(next_state, 0), 0)\n",
    "        # Remember the previous state, action, reward, and done\n",
    "\n",
    "        # make next_state the new current state for the next frame.\n",
    "        \n",
    "        next_states = copy.deepcopy(states)\n",
    "        next_states.rotate(-1)\n",
    "        next_states[-1] = next_state\n",
    "        \n",
    "        agent.remember(np.concatenate(states, axis=1), action, \n",
    "                       reward, np.concatenate(next_states, axis=1), done)\n",
    "        \n",
    "        states = copy.deepcopy(next_states)\n",
    "\n",
    "        # done becomes True when the game ends\n",
    "        # ex) The agent drops the pole\n",
    "        if done:\n",
    "            # print the score and break out of the loop\n",
    "            all_scores += [time_t]\n",
    "            \n",
    "            break\n",
    "    # train the agent with the experience of the episode\n",
    "    agent.train(batch_size=32, history_length=history_length)\n",
    "    \n",
    "    if e%20 == 0:\n",
    "        all_scores_means += [np.mean(all_scores)]\n",
    "        all_scores = []\n",
    "        pl.plot(all_scores_means, '+')\n",
    "        pl.title(\"episode: {}/{}, score: {}\".format(e, episodes, time_t))\n",
    "        display.clear_output(wait=True)\n",
    "        display.display(pl.gcf())\n",
    "        pl.close()\n",
    "    \n",
    "del agent.env\n",
    "del ridge_env"
   ]
  },
  {
   "cell_type": "code",
   "execution_count": 4,
   "metadata": {
    "collapsed": false,
    "deletable": true,
    "editable": true
   },
   "outputs": [],
   "source": [
    "del agent.env\n",
    "del ridge_env"
   ]
  },
  {
   "cell_type": "code",
   "execution_count": 4,
   "metadata": {
    "collapsed": false,
    "deletable": true,
    "editable": true
   },
   "outputs": [
    {
     "data": {
      "text/plain": [
       "(array([  41880.,       0.,       0.,       0.,       0.,   52145.,\n",
       "              0.,       0.,       0.,  105975.]),\n",
       " array([ 0. ,  0.2,  0.4,  0.6,  0.8,  1. ,  1.2,  1.4,  1.6,  1.8,  2. ]),\n",
       " <a list of 10 Patch objects>)"
      ]
     },
     "execution_count": 4,
     "metadata": {},
     "output_type": "execute_result"
    },
    {
     "data": {
      "image/png": "[encoded data removed]",
      "text/plain": [
       "<matplotlib.figure.Figure at 0x7f6e2b743a90>"
      ]
     },
     "metadata": {},
     "output_type": "display_data"
    }
   ],
   "source": [
    "actions = []\n",
    "for mem in agent.memory:\n",
    "    actions += [mem[1]]\n",
    "    \n",
    "plt.hist(actions)"
   ]
  },
  {
   "cell_type": "code",
   "execution_count": 14,
   "metadata": {
    "collapsed": false,
    "deletable": true,
    "editable": true
   },
   "outputs": [
    {
     "data": {
      "text/plain": [
       "(1, 4, 37, 113)"
      ]
     },
     "execution_count": 14,
     "metadata": {},
     "output_type": "execute_result"
    }
   ],
   "source": [
    "r"
   ]
  },
  {
   "cell_type": "code",
   "execution_count": 1,
   "metadata": {
    "collapsed": false,
    "deletable": true,
    "editable": true,
    "scrolled": false
   },
   "outputs": [
    {
     "ename": "NameError",
     "evalue": "name 'agent' is not defined",
     "output_type": "error",
     "traceback": [
      "\u001b[0;31m---------------------------------------------------------------------------\u001b[0m",
      "\u001b[0;31mNameError\u001b[0m                                 Traceback (most recent call last)",
      "\u001b[0;32m<ipython-input-1-8f4a6df95c97>\u001b[0m in \u001b[0;36m<module>\u001b[0;34m()\u001b[0m\n\u001b[0;32m----> 1\u001b[0;31m \u001b[0;32mfor\u001b[0m \u001b[0mmem\u001b[0m \u001b[0;32min\u001b[0m \u001b[0magent\u001b[0m\u001b[0;34m.\u001b[0m\u001b[0mmemory\u001b[0m\u001b[0;34m[\u001b[0m\u001b[0;36m0\u001b[0m\u001b[0;34m:\u001b[0m\u001b[0;36m100\u001b[0m\u001b[0;34m]\u001b[0m\u001b[0;34m:\u001b[0m\u001b[0;34m\u001b[0m\u001b[0m\n\u001b[0m\u001b[1;32m      2\u001b[0m     \u001b[0;32mprint\u001b[0m\u001b[0;34m(\u001b[0m\u001b[0;34m'++++++++++++++++++++++++'\u001b[0m\u001b[0;34m)\u001b[0m\u001b[0;34m\u001b[0m\u001b[0m\n\u001b[1;32m      3\u001b[0m     \u001b[0;32mprint\u001b[0m\u001b[0;34m(\u001b[0m\u001b[0mmem\u001b[0m\u001b[0;34m[\u001b[0m\u001b[0;36m2\u001b[0m\u001b[0;34m]\u001b[0m\u001b[0;34m)\u001b[0m\u001b[0;34m\u001b[0m\u001b[0m\n\u001b[1;32m      4\u001b[0m     \u001b[0mprestate\u001b[0m \u001b[0;34m=\u001b[0m \u001b[0mnp\u001b[0m\u001b[0;34m.\u001b[0m\u001b[0msqueeze\u001b[0m\u001b[0;34m(\u001b[0m\u001b[0mmem\u001b[0m\u001b[0;34m[\u001b[0m\u001b[0;36m0\u001b[0m\u001b[0;34m]\u001b[0m\u001b[0;34m)\u001b[0m\u001b[0;34m\u001b[0m\u001b[0m\n\u001b[1;32m      5\u001b[0m     \u001b[0mpostsate\u001b[0m \u001b[0;34m=\u001b[0m \u001b[0mnp\u001b[0m\u001b[0;34m.\u001b[0m\u001b[0msqueeze\u001b[0m\u001b[0;34m(\u001b[0m\u001b[0mmem\u001b[0m\u001b[0;34m[\u001b[0m\u001b[0;36m3\u001b[0m\u001b[0;34m]\u001b[0m\u001b[0;34m)\u001b[0m\u001b[0;34m\u001b[0m\u001b[0m\n",
      "\u001b[0;31mNameError\u001b[0m: name 'agent' is not defined"
     ]
    }
   ],
   "source": [
    "for mem in agent.memory[0:100]:\n",
    "    print('++++++++++++++++++++++++')\n",
    "    print(mem[2])\n",
    "    prestate = np.squeeze(mem[0])\n",
    "    postsate = np.squeeze(mem[3])\n",
    "    for state in prestate:\n",
    "        plt.imshow(state)\n",
    "        plt.show()\n",
    "    print('========================')\n",
    "    for state in postsate:\n",
    "        plt.imshow(state)\n",
    "        plt.show()"
   ]
  },
  {
   "cell_type": "code",
   "execution_count": 5,
   "metadata": {
    "collapsed": false,
    "deletable": true,
    "editable": true
   },
   "outputs": [
    {
     "data": {
      "text/plain": [
       "0.0996820918179746"
      ]
     },
     "execution_count": 5,
     "metadata": {},
     "output_type": "execute_result"
    }
   ],
   "source": [
    "agent.epsilon"
   ]
  },
  {
   "cell_type": "code",
   "execution_count": 9,
   "metadata": {
    "collapsed": false,
    "deletable": true,
    "editable": true
   },
   "outputs": [
    {
     "data": {
      "text/plain": [
       "(1, 4, 65, 195)"
      ]
     },
     "execution_count": 9,
     "metadata": {},
     "output_type": "execute_result"
    }
   ],
   "source": [
    "np.concatenate([state]*4, axis=1).shape"
   ]
  },
  {
   "cell_type": "code",
   "execution_count": 6,
   "metadata": {
    "collapsed": false,
    "deletable": true,
    "editable": true
   },
   "outputs": [],
   "source": [
    "state = np.expand_dims(np.expand_dims(state, 0), 0)"
   ]
  },
  {
   "cell_type": "code",
   "execution_count": 7,
   "metadata": {
    "collapsed": false,
    "deletable": true,
    "editable": true
   },
   "outputs": [
    {
     "data": {
      "text/plain": [
       "(1, 1, 65, 195)"
      ]
     },
     "execution_count": 7,
     "metadata": {},
     "output_type": "execute_result"
    }
   ],
   "source": [
    "state.shape"
   ]
  },
  {
   "cell_type": "code",
   "execution_count": 7,
   "metadata": {
    "collapsed": false,
    "deletable": true,
    "editable": true
   },
   "outputs": [
    {
     "data": {
      "text/plain": [
       "array([[[[0, 0, 0, ..., 0, 0, 0],\n",
       "         [0, 0, 0, ..., 0, 0, 0],\n",
       "         [0, 0, 0, ..., 0, 0, 0],\n",
       "         ..., \n",
       "         [0, 0, 0, ..., 0, 0, 0],\n",
       "         [0, 0, 0, ..., 0, 0, 0],\n",
       "         [0, 0, 0, ..., 0, 0, 0]],\n",
       "\n",
       "        [[0, 0, 0, ..., 0, 0, 0],\n",
       "         [0, 0, 0, ..., 0, 0, 0],\n",
       "         [0, 0, 0, ..., 0, 0, 0],\n",
       "         ..., \n",
       "         [0, 0, 0, ..., 0, 0, 0],\n",
       "         [0, 0, 0, ..., 0, 0, 0],\n",
       "         [0, 0, 0, ..., 0, 0, 0]],\n",
       "\n",
       "        [[0, 0, 0, ..., 0, 0, 0],\n",
       "         [0, 0, 0, ..., 0, 0, 0],\n",
       "         [0, 0, 0, ..., 0, 0, 0],\n",
       "         ..., \n",
       "         [0, 0, 0, ..., 0, 0, 0],\n",
       "         [0, 0, 0, ..., 0, 0, 0],\n",
       "         [0, 0, 0, ..., 0, 0, 0]],\n",
       "\n",
       "        [[0, 0, 0, ..., 0, 0, 0],\n",
       "         [0, 0, 0, ..., 0, 0, 0],\n",
       "         [0, 0, 0, ..., 0, 0, 0],\n",
       "         ..., \n",
       "         [0, 0, 0, ..., 0, 0, 0],\n",
       "         [0, 0, 0, ..., 0, 0, 0],\n",
       "         [0, 0, 0, ..., 0, 0, 0]]]], dtype=uint8)"
      ]
     },
     "execution_count": 7,
     "metadata": {},
     "output_type": "execute_result"
    }
   ],
   "source": [
    "np.concatenate(states, axis=1)"
   ]
  },
  {
   "cell_type": "code",
   "execution_count": 7,
   "metadata": {
    "collapsed": false,
    "deletable": true,
    "editable": true
   },
   "outputs": [
    {
     "data": {
      "text/plain": [
       "(1, 4, 23, 229)"
      ]
     },
     "execution_count": 7,
     "metadata": {},
     "output_type": "execute_result"
    }
   ],
   "source": [
    "agent.memory[0][0].shape"
   ]
  },
  {
   "cell_type": "code",
   "execution_count": null,
   "metadata": {
    "collapsed": true,
    "deletable": true,
    "editable": true
   },
   "outputs": [],
   "source": []
  }
 ],
 "metadata": {
  "kernelspec": {
   "display_name": "Python 2",
   "language": "python",
   "name": "python2"
  },
  "language_info": {
   "codemirror_mode": {
    "name": "ipython",
    "version": 2
   },
   "file_extension": ".py",
   "mimetype": "text/x-python",
   "name": "python",
   "nbconvert_exporter": "python",
   "pygments_lexer": "ipython2",
   "version": "2.7.12"
  }
 },
 "nbformat": 4,
 "nbformat_minor": 0
}
