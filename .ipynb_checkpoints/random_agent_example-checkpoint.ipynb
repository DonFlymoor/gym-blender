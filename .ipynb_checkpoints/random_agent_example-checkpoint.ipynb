{
 "cells": [
  {
   "cell_type": "code",
   "execution_count": 1,
   "metadata": {
    "collapsed": true,
    "deletable": true,
    "editable": true
   },
   "outputs": [],
   "source": [
    "from gym_blender.envs import BleEnv\n",
    "import numpy as np\n",
    "import matplotlib.pyplot as plt\n",
    "import matplotlib.cm as cm\n",
    "% matplotlib inline"
   ]
  },
  {
   "cell_type": "code",
   "execution_count": 2,
   "metadata": {
    "collapsed": false,
    "deletable": true,
    "editable": true
   },
   "outputs": [
    {
     "name": "stdout",
     "output_type": "stream",
     "text": [
      "starting\n",
      "UDP started\n",
      "game over, total reward is  0\n"
     ]
    },
    {
     "data": {
      "image/png": "[encoded data removed]",
      "text/plain": [
       "<matplotlib.figure.Figure at 0x7f36373b8e90>"
      ]
     },
     "metadata": {},
     "output_type": "display_data"
    },
    {
     "name": "stdout",
     "output_type": "stream",
     "text": [
      "game over, total reward is  0\n"
     ]
    },
    {
     "data": {
      "image/png": "[encoded data removed]",
      "text/plain": [
       "<matplotlib.figure.Figure at 0x7f3651771550>"
      ]
     },
     "metadata": {},
     "output_type": "display_data"
    },
    {
     "name": "stdout",
     "output_type": "stream",
     "text": [
      "stopping\n"
     ]
    }
   ],
   "source": [
    "ble_env = BleEnv(game_path='games/ridge/ridge.blend')\n",
    "\n",
    "for episode in range(2):\n",
    "    total_reward = 0\n",
    "    episode_over = 0\n",
    "    \n",
    "    ble_env._reset()\n",
    "    \n",
    "    while not episode_over:\n",
    "        legal_action_set = ble_env.env.legal_action_set\n",
    "        rand_action = np.random.choice(legal_action_set)\n",
    "        ob, reward, episode_over, _ = ble_env._step(rand_action)\n",
    "\n",
    "        total_reward += reward\n",
    "\n",
    "        if episode_over:\n",
    "            print \"game over, total reward is \", total_reward\n",
    "            plt.figure(figsize=(10,4))\n",
    "            plt.imshow(ob, cmap=plt.cm.gray)\n",
    "            plt.show() \n",
    "\n",
    "del ble_env"
   ]
  },
  {
   "cell_type": "code",
   "execution_count": null,
   "metadata": {
    "collapsed": true,
    "deletable": true,
    "editable": true
   },
   "outputs": [],
   "source": []
  }
 ],
 "metadata": {
  "kernelspec": {
   "display_name": "Python 2",
   "language": "python",
   "name": "python2"
  },
  "language_info": {
   "codemirror_mode": {
    "name": "ipython",
    "version": 2
   },
   "file_extension": ".py",
   "mimetype": "text/x-python",
   "name": "python",
   "nbconvert_exporter": "python",
   "pygments_lexer": "ipython2",
   "version": "2.7.12"
  }
 },
 "nbformat": 4,
 "nbformat_minor": 0
}
